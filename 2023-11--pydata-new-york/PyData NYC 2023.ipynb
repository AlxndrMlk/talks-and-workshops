{
 "cells": [
  {
   "cell_type": "code",
   "execution_count": null,
   "id": "094278bc",
   "metadata": {},
   "outputs": [],
   "source": [
    "import numpy as np\n",
    "import pandas as pd\n",
    "from scipy import stats\n",
    "\n",
    "from dowhy.causal_model import CausalModel\n",
    "\n",
    "import matplotlib.pyplot as plt\n",
    "plt.style.use('fivethirtyeight')"
   ]
  },
  {
   "cell_type": "markdown",
   "id": "5e1aab90",
   "metadata": {},
   "source": [
    "# PyData NYC 2023\n",
    "\n",
    "**Nov 2, 2023, New York**\n",
    "\n",
    "Traditional machine learning methods leverage associations between variables in order to learn the patterns of variability in the dataset of interest.\n",
    "\n",
    "This is great when we want to predict the next most likely token or classify a data point. Yet, when decision-making is at stakes, these models usually cannot provide us with a clear solution.\n",
    "\n",
    "A person with a relatively high probability of churn, might react negatively to a promotional content we send them and churn, because of this content. This scenario cannot be effectively modeled in a traditional churn prediction framework and requires a causal approach.\n",
    "\n",
    "In the talk we’ll demonstrate why this is the case. We’ll discuss theoretical and practical underpinnings of causal models and demonstrate how to implement them in Python.\n",
    "\n",
    "The talk is addressed to people who want to enrich their data science toolbox and learn about one of the currently hottest sub-fields of artificial intelligence.\n",
    "\n",
    "In the talk we’ll focus on building the practical understanding of the topic and we’ll use a mixture of hands-on and theoretical approaches.\n",
    "\n",
    "___________________________\n",
    "\n",
    "A part of [CausalPython](https://causalpython.io) series on causality.\n",
    "\n",
    "<a href=\"https://causalpython.io\"><img src=\"img/CausalPython.io__flat.png\" width=150 align=\"left\"></a>\n",
    "<br>"
   ]
  },
  {
   "cell_type": "markdown",
   "id": "51db8472",
   "metadata": {},
   "source": [
    "## Create the environment\n",
    "\n",
    "To run this notebook use `causal_book_py39_cuda117`.\n",
    "\n",
    "To create: `conda env create -f causal_book_py39_cuda117.yml`"
   ]
  },
  {
   "cell_type": "code",
   "execution_count": null,
   "id": "9b075be1",
   "metadata": {},
   "outputs": [],
   "source": [
    "COLORS = [\n",
    "    '#00B0F0',\n",
    "    '#FF0000',\n",
    "    '#B0F000'\n",
    "]"
   ]
  },
  {
   "cell_type": "markdown",
   "id": "040f41b5",
   "metadata": {},
   "source": [
    "## Define helpers"
   ]
  },
  {
   "cell_type": "code",
   "execution_count": null,
   "id": "4c2bbf8d",
   "metadata": {},
   "outputs": [],
   "source": [
    "def plot_effect(effect_true, effect_pred, figsize=(10, 7), ylim=(5000, 22000)):\n",
    "    plt.figure(figsize=figsize)\n",
    "    plt.scatter(effect_true, effect_pred, color=COLORS[0])\n",
    "    plt.plot(np.sort(effect_true), np.sort(effect_true), color=COLORS[1], alpha=.7, label='Perfect model')\n",
    "    plt.xlabel('$True\\ effect$', fontsize=14, alpha=.5)\n",
    "    plt.ylabel('$Predicted\\ effect$', fontsize=14, alpha=.5)\n",
    "    plt.ylim(ylim[0], ylim[1])\n",
    "    plt.legend()\n",
    "    plt.show()"
   ]
  },
  {
   "cell_type": "code",
   "execution_count": null,
   "id": "a7178a62",
   "metadata": {},
   "outputs": [],
   "source": [
    "class GPSMemorySCM:\n",
    "    \n",
    "    def __init__(self, random_seed=None):\n",
    "        self.random_seed = random_seed\n",
    "        self.u_x = stats.truncnorm(0, np.infty, scale=5)\n",
    "        self.u_y = stats.norm(scale=2)\n",
    "        self.u_z = stats.norm(scale=2)\n",
    "        self.u = stats.truncnorm(0, np.infty, scale=4)\n",
    "        \n",
    "    def sample(self, sample_size=100, treatment_value=None):\n",
    "        \"\"\"Samples from the SCM\"\"\"\n",
    "        if self.random_seed:\n",
    "            np.random.seed(self.random_seed)\n",
    "        \n",
    "        u_x = self.u_x.rvs(sample_size)\n",
    "        u_y = self.u_y.rvs(sample_size)\n",
    "        u_z = self.u_z.rvs(sample_size)\n",
    "        u = self.u.rvs(sample_size)\n",
    "        \n",
    "        if treatment_value:\n",
    "            gps = np.array([treatment_value]*sample_size)\n",
    "        else:\n",
    "            gps = u_x + 0.7*u\n",
    "            \n",
    "        hippocampus = -0.6*gps + 0.25*u_z\n",
    "        memory = 0.7*hippocampus + 0.25*u\n",
    "        \n",
    "        return gps, hippocampus, memory\n",
    "    \n",
    "    def intervene(self, treatment_value, sample_size=100):\n",
    "        \"\"\"Intervenes on the SCM\"\"\"\n",
    "        return self.sample(treatment_value=treatment_value, sample_size=sample_size)"
   ]
  },
  {
   "cell_type": "markdown",
   "id": "bcd4a49a",
   "metadata": {},
   "source": [
    "## Get the data"
   ]
  },
  {
   "cell_type": "code",
   "execution_count": null,
   "id": "5fad9693",
   "metadata": {},
   "outputs": [],
   "source": [
    "# Instantiate the SCM\n",
    "scm = GPSMemorySCM()\n",
    "\n",
    "# Generate observational data\n",
    "gps_obs, hippocampus_obs, memory_obs = scm.sample(600)\n",
    "\n",
    "# Encode as a pandas df\n",
    "df = pd.DataFrame(np.vstack([gps_obs, hippocampus_obs, memory_obs]).T, columns=['X', 'Z', 'Y'])"
   ]
  },
  {
   "cell_type": "code",
   "execution_count": null,
   "id": "8d3239b0",
   "metadata": {},
   "outputs": [],
   "source": [
    "df"
   ]
  },
  {
   "cell_type": "markdown",
   "id": "5aa8f92b",
   "metadata": {},
   "source": [
    "## Step 1: Modeling the problem"
   ]
  },
  {
   "cell_type": "markdown",
   "id": "e7282d14",
   "metadata": {},
   "source": [
    "### Step 1.1 - Define the graph - `GML`"
   ]
  },
  {
   "cell_type": "code",
   "execution_count": null,
   "id": "75af2d26",
   "metadata": {},
   "outputs": [],
   "source": [
    "# Create the graph describing the causal structure\n",
    "gml_graph = \"\"\"\n",
    "graph [\n",
    "    directed 1\n",
    "    \n",
    "    node [\n",
    "        id \"X\" \n",
    "        label \"X\"\n",
    "    ]    \n",
    "    node [\n",
    "        id \"Z\"\n",
    "        label \"Z\"\n",
    "    ]\n",
    "    node [\n",
    "        id \"Y\"\n",
    "        label \"Y\"\n",
    "    ]\n",
    "    node [\n",
    "        id \"U\"\n",
    "        label \"U\"\n",
    "    ]\n",
    "    \n",
    "    edge [\n",
    "        source \"X\"\n",
    "        target \"Z\"\n",
    "    ]\n",
    "    edge [\n",
    "        source \"Z\"\n",
    "        target \"Y\"\n",
    "    ]\n",
    "    edge [\n",
    "        source \"U\"\n",
    "        target \"X\"\n",
    "    ]\n",
    "    edge [\n",
    "        source \"U\"\n",
    "        target \"Y\"\n",
    "    ]\n",
    "]\n",
    "\"\"\""
   ]
  },
  {
   "cell_type": "markdown",
   "id": "b19f536f",
   "metadata": {},
   "source": [
    "### Step 1.2 - define the DoWhy model"
   ]
  },
  {
   "cell_type": "code",
   "execution_count": null,
   "id": "17f243b8",
   "metadata": {},
   "outputs": [],
   "source": [
    "# With graph\n",
    "model = CausalModel(\n",
    "    data=df,\n",
    "    treatment='X',\n",
    "    outcome='Y',\n",
    "    graph=gml_graph\n",
    ")"
   ]
  },
  {
   "cell_type": "code",
   "execution_count": null,
   "id": "e5071831",
   "metadata": {},
   "outputs": [],
   "source": [
    "# View the model\n",
    "model.view_model()"
   ]
  },
  {
   "cell_type": "markdown",
   "id": "d6312615",
   "metadata": {},
   "source": [
    "## Step 2: Identify the estimand"
   ]
  },
  {
   "cell_type": "code",
   "execution_count": null,
   "id": "0c0eca4c",
   "metadata": {},
   "outputs": [],
   "source": [
    "estimand = model.identify_effect()\n",
    "print(estimand)"
   ]
  },
  {
   "cell_type": "markdown",
   "id": "d5eff369",
   "metadata": {},
   "source": [
    "## Step 3: Estimate the causal effect"
   ]
  },
  {
   "cell_type": "code",
   "execution_count": null,
   "id": "4eec06c0",
   "metadata": {},
   "outputs": [],
   "source": [
    "estimate = model.estimate_effect(\n",
    "    identified_estimand=estimand,\n",
    "    method_name='frontdoor.two_stage_regression')\n",
    "\n",
    "print(f'Estimate of causal effect (linear regression): {estimate.value}')"
   ]
  },
  {
   "cell_type": "markdown",
   "id": "d96327cb",
   "metadata": {},
   "source": [
    "## Step 4: Run refutation tests"
   ]
  },
  {
   "cell_type": "code",
   "execution_count": null,
   "id": "f9549f10",
   "metadata": {},
   "outputs": [],
   "source": [
    "refute_subset = model.refute_estimate(\n",
    "    estimand=estimand, \n",
    "    estimate=estimate,\n",
    "    method_name=\"data_subset_refuter\", \n",
    "    subset_fraction=0.4)"
   ]
  },
  {
   "cell_type": "code",
   "execution_count": null,
   "id": "c365ab7c",
   "metadata": {
    "scrolled": true
   },
   "outputs": [],
   "source": [
    "print(refute_subset)"
   ]
  },
  {
   "cell_type": "markdown",
   "id": "4d8b1071",
   "metadata": {},
   "source": [
    "## Heterogeneous Treatment Effects\n",
    "\n",
    "AKA **Conditional Average Treamtent Effects** (**CATE**)"
   ]
  },
  {
   "cell_type": "code",
   "execution_count": null,
   "id": "31fa8a69",
   "metadata": {},
   "outputs": [],
   "source": [
    "from econml.dml import LinearDML\n",
    "\n",
    "from sklearn.linear_model import LinearRegression, LogisticRegression\n",
    "from lightgbm import LGBMRegressor, LGBMClassifier\n",
    "\n",
    "from sklearn.metrics import mean_absolute_percentage_error"
   ]
  },
  {
   "cell_type": "markdown",
   "id": "a5458e83",
   "metadata": {},
   "source": [
    "### Get the data"
   ]
  },
  {
   "cell_type": "code",
   "execution_count": null,
   "id": "c387b857",
   "metadata": {},
   "outputs": [],
   "source": [
    "# Train set\n",
    "earnings_interaction_train = pd.read_csv(r'https://raw.githubusercontent.com/PacktPublishing/Causal-Inference-and-Discovery-in-Python/main/data/ml_earnings_interaction_train.csv')\n",
    "\n",
    "# Test set\n",
    "earnings_interaction_test = pd.read_csv(r'https://raw.githubusercontent.com/PacktPublishing/Causal-Inference-and-Discovery-in-Python/main/data/ml_earnings_interaction_test.csv')"
   ]
  },
  {
   "cell_type": "markdown",
   "id": "c9eb7b21",
   "metadata": {},
   "source": [
    "### Step 1 - Define the problem"
   ]
  },
  {
   "cell_type": "code",
   "execution_count": null,
   "id": "e6fe5a23",
   "metadata": {},
   "outputs": [],
   "source": [
    "# Construct the graph (the graph is constant for all iterations)\n",
    "nodes = ['took_a_course', 'python_proficiency', 'earnings', 'age']\n",
    "edges = [\n",
    "    ('took_a_course', 'earnings'),\n",
    "    ('age', 'took_a_course'),\n",
    "    ('age', 'earnings'),\n",
    "    ('python_proficiency', 'earnings')\n",
    "]\n",
    "\n",
    "# Generate the GML graph\n",
    "gml_string = 'graph [directed 1\\n'\n",
    "\n",
    "for node in nodes:\n",
    "    gml_string += f'\\tnode [id \"{node}\" label \"{node}\"]\\n'\n",
    "\n",
    "for edge in edges:\n",
    "    gml_string += f'\\tedge [source \"{edge[0]}\" target \"{edge[1]}\"]\\n'\n",
    "    \n",
    "gml_string += ']'"
   ]
  },
  {
   "cell_type": "code",
   "execution_count": null,
   "id": "1a263daf",
   "metadata": {},
   "outputs": [],
   "source": [
    "# Instantiate the CausalModel \n",
    "model = CausalModel(\n",
    "    data=earnings_interaction_train,\n",
    "    treatment='took_a_course',\n",
    "    outcome='earnings',\n",
    "    effect_modifiers='python_proficiency',\n",
    "    graph=gml_string\n",
    ")"
   ]
  },
  {
   "cell_type": "code",
   "execution_count": null,
   "id": "4ab9f8ee",
   "metadata": {},
   "outputs": [],
   "source": [
    "model.view_model()"
   ]
  },
  {
   "cell_type": "markdown",
   "id": "3029d2a4",
   "metadata": {},
   "source": [
    "### Step 2 - Get the estimand"
   ]
  },
  {
   "cell_type": "code",
   "execution_count": null,
   "id": "631e82a8",
   "metadata": {},
   "outputs": [],
   "source": [
    "# Get the estimand\n",
    "estimand = model.identify_effect()\n",
    "\n",
    "print(estimand)"
   ]
  },
  {
   "cell_type": "markdown",
   "id": "27599bcd",
   "metadata": {},
   "source": [
    "### Step 3 - Get the estimate"
   ]
  },
  {
   "cell_type": "code",
   "execution_count": null,
   "id": "084f55d3",
   "metadata": {},
   "outputs": [],
   "source": [
    "# Get estimate (DML)\n",
    "estimate = model.estimate_effect(\n",
    "    identified_estimand=estimand,\n",
    "    method_name='backdoor.econml.dml.LinearDML',\n",
    "    target_units='ate',\n",
    "    method_params={\n",
    "        'init_params': {\n",
    "            'model_y': LGBMRegressor(n_estimators=500, max_depth=10),\n",
    "            'model_t': LogisticRegression(),\n",
    "            'discrete_treatment': True\n",
    "        },\n",
    "        'fit_params': {}\n",
    "    })"
   ]
  },
  {
   "cell_type": "code",
   "execution_count": null,
   "id": "3226958e",
   "metadata": {},
   "outputs": [],
   "source": [
    "estimate.cate_estimates.mean()"
   ]
  },
  {
   "cell_type": "code",
   "execution_count": null,
   "id": "ed7d0643",
   "metadata": {},
   "outputs": [],
   "source": [
    "estimate.cate_estimates"
   ]
  },
  {
   "cell_type": "markdown",
   "id": "d53758a6",
   "metadata": {},
   "source": [
    "### Step 4 - Refute the model"
   ]
  },
  {
   "cell_type": "code",
   "execution_count": null,
   "id": "7874ddb5",
   "metadata": {},
   "outputs": [],
   "source": [
    "# YOUR TURN\n",
    "# See https://www.pywhy.org/dowhy/v0.8/user_guide/effect_inference/refute.html for available refuters"
   ]
  },
  {
   "cell_type": "markdown",
   "id": "e17ba552",
   "metadata": {},
   "source": [
    "### Model validation\n",
    "\n",
    "This type of model validation is not possible in most real-world scenarios as it uses a synthetic test set with known ground truth.\n",
    "\n",
    "We usually don't have this luxury in the the real-world.\n",
    "\n",
    "To learn more about causal model validation see **Chapter 10** of [**Causal Inference and Discovery in Python**](https://amzn.to/3QGSiuf)."
   ]
  },
  {
   "cell_type": "code",
   "execution_count": null,
   "id": "f5a95b06",
   "metadata": {},
   "outputs": [],
   "source": [
    "# Compute predictions\n",
    "effect_pred = model.causal_estimator.effect(earnings_interaction_test.drop(['true_effect', 'took_a_course'], axis=1))\n",
    "\n",
    "# Get the true effect\n",
    "effect_true = earnings_interaction_test['true_effect'].values\n"
   ]
  },
  {
   "cell_type": "code",
   "execution_count": null,
   "id": "53092dbc",
   "metadata": {},
   "outputs": [],
   "source": [
    "# Compute the error \n",
    "mean_absolute_percentage_error(effect_true, effect_pred)"
   ]
  },
  {
   "cell_type": "code",
   "execution_count": null,
   "id": "dce7ae4c",
   "metadata": {},
   "outputs": [],
   "source": [
    "plot_effect(\n",
    "    effect_true=effect_true,\n",
    "    effect_pred=effect_pred,\n",
    ")"
   ]
  },
  {
   "cell_type": "markdown",
   "id": "a7f398b2",
   "metadata": {},
   "source": [
    "## Learn more about Causality (mostly) for free:\n",
    "* [Free Causal Repo](https://bit.ly/3QIKOIm)\n",
    "* [Causal Bandits Podcast](https://bit.ly/3FIkEil)\n",
    "* [Free Weekly emails](https://bit.ly/3QGHYDn)\n",
    "* [The Causal Python Book](https://amzn.to/3QGSiuf) (this one's not free, but the [examples repo](https://bit.ly/49lHJoy) is)"
   ]
  }
 ],
 "metadata": {
  "kernelspec": {
   "display_name": "Python [conda env:causal_book_py39_cuda117]",
   "language": "python",
   "name": "conda-env-causal_book_py39_cuda117-py"
  },
  "language_info": {
   "codemirror_mode": {
    "name": "ipython",
    "version": 3
   },
   "file_extension": ".py",
   "mimetype": "text/x-python",
   "name": "python",
   "nbconvert_exporter": "python",
   "pygments_lexer": "ipython3",
   "version": "3.9.16"
  }
 },
 "nbformat": 4,
 "nbformat_minor": 5
}
