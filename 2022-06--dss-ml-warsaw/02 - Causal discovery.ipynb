{
 "cells": [
  {
   "cell_type": "code",
   "execution_count": null,
   "metadata": {},
   "outputs": [],
   "source": [
    "import os\n",
    "os.environ['CASTLE_BACKEND'] = 'pytorch'\n",
    "\n",
    "from collections import OrderedDict\n",
    "import warnings\n",
    "\n",
    "import numpy as np\n",
    "import networkx as nx\n",
    "\n",
    "import ges\n",
    "from castle.common import GraphDAG\n",
    "from castle.metrics import MetricsDAG\n",
    "from castle.datasets import IIDSimulation, DAG\n",
    "from castle.algorithms import PC, ICALiNGAM, GOLEM\n",
    "\n",
    "import matplotlib.pyplot as plt"
   ]
  },
  {
   "cell_type": "code",
   "execution_count": null,
   "metadata": {},
   "outputs": [],
   "source": [
    "# Mute warnings - for the sake of presentation clarity\n",
    "# Should be removed for real-life applications\n",
    "warnings.simplefilter('ignore')"
   ]
  },
  {
   "cell_type": "markdown",
   "metadata": {},
   "source": [
    "# Causal Discovery in Python\n",
    "\n",
    "\n",
    "Over the last decade, causal inference gained a lot of traction in academia and in the industry. Causal models can be immensely helpful in various areas – from marketing to medicine and from finance to cybersecurity. To make these models work, we need not only data as in traditional machine learning, but also a causal structure. Traditional way to obtain the latter is through well-designed experiments. Unfortunately, experiments can be tricky – difficult to design, expensive or unethical. Causal discovery (also known as structure learning) is an umbrella term that describes several families of methods aiming at discovering causal structure from observational data. During the talk, we will review the basics of causal inference and introduce the concept of causal discovery. Next, we will discuss differences between various approaches to causal discovery. Finally, we will see a series of practical examples of causal discovery using Python."
   ]
  },
  {
   "cell_type": "markdown",
   "metadata": {},
   "source": [
    "## Installing the environment\n",
    "\n",
    "* Using **Conda**:\n",
    "\n",
    "    `conda env create --file econml-dowhy-py38.yml`\n",
    "\n",
    "\n",
    "* Installing `gcastle` only:\n",
    "\n",
    "    `pip install gcastle==1.0.3rc3`"
   ]
  },
  {
   "cell_type": "code",
   "execution_count": null,
   "metadata": {},
   "outputs": [],
   "source": [
    "def get_n_undirected(g):\n",
    "    \n",
    "    total = 0\n",
    "    \n",
    "    for i in range(g.shape[0]):\n",
    "        for j in range(g.shape[0]):\n",
    "            if (g[i, j] == 1) and (g[i, j] == g[j, i]):\n",
    "                total += .5\n",
    "    \n",
    "    return total"
   ]
  },
  {
   "cell_type": "markdown",
   "metadata": {},
   "source": [
    "## PC algorithm\n",
    "\n",
    "**PC algorithm** starts with a **fully connected** graph and then performs a series of steps to remove edges, based on graph independence structure. Finally, it tries to orient as many edges as possible.\n",
    "\n",
    "Figure 1 presents a visual representatrion of these steps.\n",
    "\n",
    "<br><br>\n",
    "\n",
    "<img src=\"img/glymour_et_al_pc.jpg\">\n",
    "\n",
    "<br>\n",
    "\n",
    "<figcaption><center><b>Figure 1. </b>Original graph and PC algorithm steps. (Gylmour et al., 2019)</center></figcaption>\n",
    "\n",
    "<br>\n",
    "\n",
    "\n",
    "Interested in more details? \n",
    "[Gylmour et al. - Review of Causal Discovery Methods Based on Graphical Models (2019)](https://www.frontiersin.org/articles/10.3389/fgene.2019.00524/full)"
   ]
  },
  {
   "cell_type": "code",
   "execution_count": null,
   "metadata": {},
   "outputs": [],
   "source": [
    "# Let's implement this structure\n",
    "x = np.random.randn(1000)\n",
    "y = np.random.randn(1000)\n",
    "\n",
    "z = x + y + .1 * np.random.randn(1000)\n",
    "w = .7 * z + .1 * np.random.randn(1000)"
   ]
  },
  {
   "cell_type": "code",
   "execution_count": null,
   "metadata": {},
   "outputs": [],
   "source": [
    "# To matrix\n",
    "pc_dataset = np.vstack([x, y, z, w]).T"
   ]
  },
  {
   "cell_type": "code",
   "execution_count": null,
   "metadata": {},
   "outputs": [],
   "source": [
    "# Sanity check\n",
    "pc_dataset, pc_dataset.shape"
   ]
  },
  {
   "cell_type": "code",
   "execution_count": null,
   "metadata": {},
   "outputs": [],
   "source": [
    "# Build the model\n",
    "pc = PC()\n",
    "pc.learn(pc_dataset)"
   ]
  },
  {
   "cell_type": "code",
   "execution_count": null,
   "metadata": {},
   "outputs": [],
   "source": [
    "pc.causal_matrix"
   ]
  },
  {
   "cell_type": "code",
   "execution_count": null,
   "metadata": {},
   "outputs": [],
   "source": [
    "# Get learned graph\n",
    "learned_graph = nx.DiGraph(pc.causal_matrix)\n",
    "\n",
    "# Relabel the nodes\n",
    "MAPPING = {k: v for k, v in zip(range(4), ['X', 'Y', 'Z', 'W'])}\n",
    "learned_graph = nx.relabel_nodes(learned_graph, MAPPING, copy=True)\n",
    "\n",
    "# Plot the graph\n",
    "nx.draw(\n",
    "    learned_graph, \n",
    "    with_labels=True,\n",
    "    node_size=1800,\n",
    "    font_size=18,\n",
    "    font_color='white'\n",
    ")"
   ]
  },
  {
   "cell_type": "markdown",
   "metadata": {},
   "source": [
    "## Let's do some more discovery!"
   ]
  },
  {
   "cell_type": "markdown",
   "metadata": {},
   "source": [
    "### Generate datasets\n",
    "\n",
    "We'll use a [scale-free](https://en.wikipedia.org/wiki/Scale-free_network) model to generate graphs.\n",
    "\n",
    "Then we'll use three different causal models on this graph:\n",
    "\n",
    "* linear Gaussian\n",
    "* linear exp\n",
    "* non-linear quadratic"
   ]
  },
  {
   "cell_type": "code",
   "execution_count": null,
   "metadata": {},
   "outputs": [],
   "source": [
    "# Data simulation, simulate true causal dag and train_data.\n",
    "true_dag = DAG.scale_free(n_nodes=10, n_edges=15, seed=18)\n",
    "\n",
    "\n",
    "DATA_PARAMS = {\n",
    "    'linearity': ['linear', 'nonlinear'], \n",
    "    'distribution': {\n",
    "        'linear': ['gauss', 'exp'],\n",
    "        'nonlinear': ['quadratic']\n",
    "    }\n",
    "}\n",
    "\n",
    "datasets = {}\n",
    "\n",
    "for linearity in DATA_PARAMS['linearity']:\n",
    "    for distr in DATA_PARAMS['distribution'][linearity]:\n",
    "        \n",
    "        datasets[f'{linearity}_{distr}'] = IIDSimulation(\n",
    "            W=true_dag, \n",
    "            n=2000, \n",
    "            method=linearity, \n",
    "            sem_type=distr)\n"
   ]
  },
  {
   "cell_type": "code",
   "execution_count": null,
   "metadata": {},
   "outputs": [],
   "source": [
    "# Sanity check\n",
    "datasets"
   ]
  },
  {
   "cell_type": "code",
   "execution_count": null,
   "metadata": {},
   "outputs": [],
   "source": [
    "plt.figure(figsize=(16, 8))\n",
    "for i, dataset in enumerate(datasets):\n",
    "    X = datasets[dataset].X\n",
    "    \n",
    "    plt.subplot(4, 2, i + 1)\n",
    "    plt.hist(X[:, 0], bins=100)\n",
    "    plt.title(dataset)\n",
    "    plt.axis('off')\n",
    "    \n",
    "    plt.subplot(4, 2, i + 5)\n",
    "    plt.scatter(X[:, 8], X[:, 4], alpha=.3)\n",
    "    plt.title(dataset)\n",
    "    plt.axis('off')\n",
    "    \n",
    "plt.subplots_adjust(hspace=.7)\n",
    "plt.show()"
   ]
  },
  {
   "cell_type": "markdown",
   "metadata": {},
   "source": [
    "### Visualize the true graph"
   ]
  },
  {
   "cell_type": "code",
   "execution_count": null,
   "metadata": {},
   "outputs": [],
   "source": [
    "nx.draw(\n",
    "    nx.DiGraph(true_dag), \n",
    "    node_size=1800,\n",
    "    alpha=.7,\n",
    "    pos=nx.circular_layout(nx.DiGraph(true_dag))\n",
    ")"
   ]
  },
  {
   "cell_type": "code",
   "execution_count": null,
   "metadata": {},
   "outputs": [],
   "source": [
    "GraphDAG(true_dag)\n",
    "plt.show()"
   ]
  },
  {
   "cell_type": "markdown",
   "metadata": {},
   "source": [
    "## Method comparison "
   ]
  },
  {
   "cell_type": "code",
   "execution_count": null,
   "metadata": {},
   "outputs": [],
   "source": [
    "methods = OrderedDict({\n",
    "    'PC': PC,\n",
    "    'GES': ges,\n",
    "    'LiNGAM': ICALiNGAM,\n",
    "    'GOLEM': GOLEM\n",
    "})"
   ]
  },
  {
   "cell_type": "code",
   "execution_count": null,
   "metadata": {
    "scrolled": false
   },
   "outputs": [],
   "source": [
    "%%time\n",
    "\n",
    "results = {}\n",
    "\n",
    "for k, dataset in datasets.items():\n",
    "    print(f'************* Current dataset: {k}\\n')\n",
    "    X = dataset.X\n",
    "    \n",
    "    results[dataset] = {}\n",
    "    \n",
    "    for method in methods:\n",
    "        \n",
    "        if method not in ['GES', 'CORL']:\n",
    "            print(f'Method: {method}')\n",
    "            \n",
    "            # Fit the model\n",
    "            if method == 'GOLEM':\n",
    "                model = methods[method](num_iter=2.5e4)\n",
    "            else:\n",
    "                model = methods[method]()\n",
    "            \n",
    "            model.learn(X)\n",
    "            \n",
    "            pred_dag = model.causal_matrix\n",
    "\n",
    "        elif method == 'GES':\n",
    "            print(f'Method: {method}')\n",
    "            \n",
    "            # Fit the model\n",
    "            pred_dag, _ = methods[method].fit_bic(X)\n",
    "              \n",
    "        # Get n undir edges\n",
    "        n_undir = get_n_undirected(pred_dag)\n",
    "\n",
    "        # Plot results\n",
    "        GraphDAG(pred_dag, true_dag, 'result')\n",
    "\n",
    "        mt = MetricsDAG(pred_dag, true_dag)\n",
    "        print(f'FDR: {mt.metrics[\"fdr\"]}')\n",
    "        print(f'Recall: {mt.metrics[\"recall\"]}')\n",
    "        print(f'Precision: {mt.metrics[\"precision\"]}')\n",
    "        print(f'F1 score: {mt.metrics[\"F1\"]}')\n",
    "        print(f'No. of undir. edges: {n_undir}\\n')\n",
    "        print('-' * 50, '\\n')\n",
    "\n",
    "        results[dataset][method] = pred_dag      \n",
    "            \n",
    "    print('\\n')         "
   ]
  },
  {
   "cell_type": "code",
   "execution_count": null,
   "metadata": {},
   "outputs": [],
   "source": []
  }
 ],
 "metadata": {
  "kernelspec": {
   "display_name": "Python [conda env:econml-dowhy-py38]",
   "language": "python",
   "name": "conda-env-econml-dowhy-py38-py"
  },
  "language_info": {
   "codemirror_mode": {
    "name": "ipython",
    "version": 3
   },
   "file_extension": ".py",
   "mimetype": "text/x-python",
   "name": "python",
   "nbconvert_exporter": "python",
   "pygments_lexer": "ipython3",
   "version": "3.8.12"
  }
 },
 "nbformat": 4,
 "nbformat_minor": 4
}
