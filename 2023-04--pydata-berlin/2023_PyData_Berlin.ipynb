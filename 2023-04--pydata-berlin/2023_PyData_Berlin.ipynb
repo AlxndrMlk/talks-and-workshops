{
  "nbformat": 4,
  "nbformat_minor": 0,
  "metadata": {
    "colab": {
      "provenance": []
    },
    "kernelspec": {
      "name": "python3",
      "display_name": "Python 3"
    },
    "language_info": {
      "name": "python"
    },
    "accelerator": "GPU",
    "gpuClass": "standard"
  },
  "cells": [
    {
      "cell_type": "code",
      "execution_count": null,
      "metadata": {
        "id": "0LwKIsb-jmv7"
      },
      "outputs": [],
      "source": [
        "!wget https://raw.githubusercontent.com/rpryzant/causal-bert-pytorch/master/CausalBert.py\n",
        "!wget https://raw.githubusercontent.com/rpryzant/causal-bert-pytorch/master/testdata.csv\n",
        "!pip install transformers"
      ]
    },
    {
      "cell_type": "code",
      "source": [
        "import numpy as np\n",
        "import pandas as pd\n",
        "from scipy import stats\n",
        "import statsmodels.api as sm\n",
        "\n",
        "import networkx as nx\n",
        "\n",
        "import matplotlib.pyplot as plt\n",
        "plt.style.use('fivethirtyeight')"
      ],
      "metadata": {
        "id": "ROu9urMhkIUN"
      },
      "execution_count": null,
      "outputs": []
    },
    {
      "cell_type": "code",
      "source": [
        "COLORS = [\n",
        "    '#00B0F0',\n",
        "    '#FF0000',\n",
        "    '#B0F000'\n",
        "]"
      ],
      "metadata": {
        "id": "ki9uU94GHIAW"
      },
      "execution_count": null,
      "outputs": []
    },
    {
      "cell_type": "code",
      "source": [
        "np.random.seed(18)"
      ],
      "metadata": {
        "id": "fgzr02IaI17n"
      },
      "execution_count": null,
      "outputs": []
    },
    {
      "cell_type": "markdown",
      "source": [
        "# Causality vs NLP (PyCon DE & PyData Berlin 2023 )"
      ],
      "metadata": {
        "id": "GuP_Vp_WGNoi"
      }
    },
    {
      "cell_type": "markdown",
      "source": [
        "## DGP 1"
      ],
      "metadata": {
        "id": "Icm2IYR3GiXy"
      }
    },
    {
      "cell_type": "code",
      "source": [
        "dag_1 = nx.DiGraph()\n",
        "\n",
        "dag_1.add_edges_from(\n",
        "    [\n",
        "        ('X', 'Y'),\n",
        "        ('W', 'X'),\n",
        "        ('W', 'Y')\n",
        "    ]\n",
        ")\n",
        "\n",
        "nx.draw(\n",
        "    dag_1, \n",
        "    with_labels=True, \n",
        "    node_size=900,\n",
        "    font_color='white', \n",
        "    node_color=COLORS[0]\n",
        ")"
      ],
      "metadata": {
        "id": "cl-kFMZRkTi6"
      },
      "execution_count": null,
      "outputs": []
    },
    {
      "cell_type": "code",
      "source": [
        "SAMPLE_SIZE = 1000\n",
        "\n",
        "w = np.random.normal(0, 1, SAMPLE_SIZE)\n",
        "x = w + 0.5*np.random.normal(0, 1, SAMPLE_SIZE)\n",
        "y = 5*x + 2*w + 0.5*np.random.normal(0, 1, SAMPLE_SIZE)\n",
        "\n",
        "feats = np.stack([x, w]).T"
      ],
      "metadata": {
        "id": "WQLjr8pHkbRx"
      },
      "execution_count": null,
      "outputs": []
    },
    {
      "cell_type": "code",
      "source": [
        "# Statsmodel models require us to add constant\n",
        "feats = sm.add_constant(feats)\n",
        "\n",
        "# Instantiate the model and fit it\n",
        "model = sm.OLS(y, feats)\n",
        "fitted_model = model.fit()\n",
        "\n",
        "# Print results summary\n",
        "print(fitted_model.summary(xname=['const', 'x', 'w']))"
      ],
      "metadata": {
        "id": "rQb5G19FG6DO"
      },
      "execution_count": null,
      "outputs": []
    },
    {
      "cell_type": "markdown",
      "source": [
        "## DGP 2"
      ],
      "metadata": {
        "id": "5ni7vusrJc5O"
      }
    },
    {
      "cell_type": "code",
      "source": [
        "dag_2 = nx.DiGraph()\n",
        "\n",
        "dag_2.add_edges_from(\n",
        "    [\n",
        "        ('X', 'Y'),\n",
        "        ('X', 'W'),\n",
        "        ('Y', 'W')\n",
        "    ]\n",
        ")\n",
        "\n",
        "nx.draw(\n",
        "    dag_2, \n",
        "    with_labels=True, \n",
        "    node_size=900,\n",
        "    font_color='white', \n",
        "    node_color=COLORS[0]\n",
        ")"
      ],
      "metadata": {
        "id": "rqVJ1U3PI8u-"
      },
      "execution_count": null,
      "outputs": []
    },
    {
      "cell_type": "code",
      "source": [
        "x = np.random.normal(0, 1, SAMPLE_SIZE)\n",
        "y = 5*x + 0.5*np.random.normal(0, 1, SAMPLE_SIZE)\n",
        "w = 5*x + 2*y + 0.2*np.random.normal(0, 1, SAMPLE_SIZE)\n",
        "\n",
        "feats = np.stack([x, w]).T"
      ],
      "metadata": {
        "id": "8pSWxeNeJp0R"
      },
      "execution_count": null,
      "outputs": []
    },
    {
      "cell_type": "code",
      "source": [
        "# Statsmodel models require us to add constant\n",
        "feats = sm.add_constant(feats)\n",
        "\n",
        "# Instantiate the model and fit it\n",
        "model = sm.OLS(y, feats)\n",
        "fitted_model = model.fit()\n",
        "\n",
        "# Print results summary\n",
        "print(fitted_model.summary(xname=['const', 'x', 'w']))"
      ],
      "metadata": {
        "id": "chw83APGJ46K"
      },
      "execution_count": null,
      "outputs": []
    },
    {
      "cell_type": "markdown",
      "source": [
        "## CausalBert"
      ],
      "metadata": {
        "id": "qogiukvHxybh"
      }
    },
    {
      "cell_type": "code",
      "source": [
        "from CausalBert import CausalBertWrapper"
      ],
      "metadata": {
        "id": "pLEQzwqOymWl"
      },
      "execution_count": null,
      "outputs": []
    },
    {
      "cell_type": "code",
      "source": [
        "# Get data\n",
        "df = pd.read_csv('testdata.csv')    \n",
        "\n",
        "df.head()"
      ],
      "metadata": {
        "id": "TvsKxqx_zi3i"
      },
      "execution_count": null,
      "outputs": []
    },
    {
      "cell_type": "code",
      "source": [
        "# Instantiate the model\n",
        "causal_bert = CausalBertWrapper(\n",
        "    batch_size=32,                      \n",
        "    g_weight=0.1, \n",
        "    Q_weight=0.1, \n",
        "    mlm_weight=1\n",
        ")"
      ],
      "metadata": {
        "id": "IJsipF7NzIRs"
      },
      "execution_count": null,
      "outputs": []
    },
    {
      "cell_type": "markdown",
      "source": [
        "### What's inside?\n",
        "\n",
        "\n",
        "```python\n",
        "class CausalBertWrapper:\n",
        "    \"\"\"Model wrapper in charge of training and inference.\"\"\"\n",
        "\n",
        "    def __init__(self, g_weight=1.0, Q_weight=0.1, mlm_weight=1.0,\n",
        "        batch_size=32):\n",
        "        self.model = CausalBert.from_pretrained(\n",
        "            \"distilbert-base-uncased\",\n",
        "            num_labels=2,\n",
        "            output_attentions=False,\n",
        "            output_hidden_states=False)\n",
        "        if CUDA:\n",
        "            self.model = self.model.cuda()\n",
        "```\n",
        "\n",
        "\n",
        "\n",
        "\n",
        "\n",
        "---\n",
        "\n"
      ],
      "metadata": {
        "id": "yWjFoKmZyYXJ"
      }
    },
    {
      "cell_type": "code",
      "source": [
        "# Fit\n",
        "causal_bert.train(\n",
        "    texts=df['text'], \n",
        "    confounds=df['C'], \n",
        "    treatments=df['T'], \n",
        "    outcomes=df['Y'], \n",
        "    epochs=2\n",
        ")  "
      ],
      "metadata": {
        "id": "7Eqgr2bSJ7e0"
      },
      "execution_count": null,
      "outputs": []
    },
    {
      "cell_type": "code",
      "source": [
        "causal_bert.ATE(\n",
        "    C=df['C'], \n",
        "    W=df['text']\n",
        ") "
      ],
      "metadata": {
        "id": "RdMe86qq4e30"
      },
      "execution_count": null,
      "outputs": []
    },
    {
      "cell_type": "code",
      "source": [],
      "metadata": {
        "id": "iOSLpqEaSO6p"
      },
      "execution_count": null,
      "outputs": []
    }
  ]
}