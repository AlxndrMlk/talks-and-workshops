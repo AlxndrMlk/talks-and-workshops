{
  "nbformat": 4,
  "nbformat_minor": 0,
  "metadata": {
    "colab": {
      "provenance": []
    },
    "kernelspec": {
      "name": "python3",
      "display_name": "Python 3"
    },
    "language_info": {
      "name": "python"
    },
    "accelerator": "GPU",
    "gpuClass": "standard"
  },
  "cells": [
    {
      "cell_type": "code",
      "execution_count": 5,
      "metadata": {
        "colab": {
          "base_uri": "https://localhost:8080/"
        },
        "id": "0LwKIsb-jmv7",
        "outputId": "52ea8f01-daf5-4d07-f00e-cab3a04a351f"
      },
      "outputs": [
        {
          "output_type": "stream",
          "name": "stdout",
          "text": [
            "--2023-04-19 05:58:15--  https://raw.githubusercontent.com/rpryzant/causal-bert-pytorch/master/CausalBert.py\n",
            "Resolving raw.githubusercontent.com (raw.githubusercontent.com)... 185.199.108.133, 185.199.109.133, 185.199.111.133, ...\n",
            "Connecting to raw.githubusercontent.com (raw.githubusercontent.com)|185.199.108.133|:443... connected.\n",
            "HTTP request sent, awaiting response... 200 OK\n",
            "Length: 11338 (11K) [text/plain]\n",
            "Saving to: ‘CausalBert.py’\n",
            "\n",
            "CausalBert.py       100%[===================>]  11.07K  --.-KB/s    in 0s      \n",
            "\n",
            "2023-04-19 05:58:16 (116 MB/s) - ‘CausalBert.py’ saved [11338/11338]\n",
            "\n",
            "--2023-04-19 05:58:16--  https://raw.githubusercontent.com/rpryzant/causal-bert-pytorch/master/testdata.csv\n",
            "Resolving raw.githubusercontent.com (raw.githubusercontent.com)... 185.199.109.133, 185.199.111.133, 185.199.108.133, ...\n",
            "Connecting to raw.githubusercontent.com (raw.githubusercontent.com)|185.199.109.133|:443... connected.\n",
            "HTTP request sent, awaiting response... 200 OK\n",
            "Length: 7173870 (6.8M) [text/plain]\n",
            "Saving to: ‘testdata.csv’\n",
            "\n",
            "testdata.csv        100%[===================>]   6.84M  --.-KB/s    in 0.02s   \n",
            "\n",
            "2023-04-19 05:58:16 (344 MB/s) - ‘testdata.csv’ saved [7173870/7173870]\n",
            "\n",
            "--2023-04-19 05:58:16--  https://raw.githubusercontent.com/rpryzant/causal-bert-pytorch/master/requirements.txt\n",
            "Resolving raw.githubusercontent.com (raw.githubusercontent.com)... 185.199.108.133, 185.199.109.133, 185.199.110.133, ...\n",
            "Connecting to raw.githubusercontent.com (raw.githubusercontent.com)|185.199.108.133|:443... connected.\n",
            "HTTP request sent, awaiting response... 200 OK\n",
            "Length: 88 [text/plain]\n",
            "Saving to: ‘requirements.txt’\n",
            "\n",
            "requirements.txt    100%[===================>]      88  --.-KB/s    in 0s      \n",
            "\n",
            "2023-04-19 05:58:17 (5.11 MB/s) - ‘requirements.txt’ saved [88/88]\n",
            "\n",
            "Looking in indexes: https://pypi.org/simple, https://us-python.pkg.dev/colab-wheels/public/simple/\n",
            "Collecting transformers\n",
            "  Downloading transformers-4.28.1-py3-none-any.whl (7.0 MB)\n",
            "\u001b[2K     \u001b[90m━━━━━━━━━━━━━━━━━━━━━━━━━━━━━━━━━━━━━━━━\u001b[0m \u001b[32m7.0/7.0 MB\u001b[0m \u001b[31m93.0 MB/s\u001b[0m eta \u001b[36m0:00:00\u001b[0m\n",
            "\u001b[?25hRequirement already satisfied: filelock in /usr/local/lib/python3.9/dist-packages (from transformers) (3.11.0)\n",
            "Requirement already satisfied: requests in /usr/local/lib/python3.9/dist-packages (from transformers) (2.27.1)\n",
            "Collecting tokenizers!=0.11.3,<0.14,>=0.11.1\n",
            "  Downloading tokenizers-0.13.3-cp39-cp39-manylinux_2_17_x86_64.manylinux2014_x86_64.whl (7.8 MB)\n",
            "\u001b[2K     \u001b[90m━━━━━━━━━━━━━━━━━━━━━━━━━━━━━━━━━━━━━━━━\u001b[0m \u001b[32m7.8/7.8 MB\u001b[0m \u001b[31m77.8 MB/s\u001b[0m eta \u001b[36m0:00:00\u001b[0m\n",
            "\u001b[?25hCollecting huggingface-hub<1.0,>=0.11.0\n",
            "  Downloading huggingface_hub-0.13.4-py3-none-any.whl (200 kB)\n",
            "\u001b[2K     \u001b[90m━━━━━━━━━━━━━━━━━━━━━━━━━━━━━━━━━━━━━━\u001b[0m \u001b[32m200.1/200.1 kB\u001b[0m \u001b[31m24.4 MB/s\u001b[0m eta \u001b[36m0:00:00\u001b[0m\n",
            "\u001b[?25hRequirement already satisfied: packaging>=20.0 in /usr/local/lib/python3.9/dist-packages (from transformers) (23.0)\n",
            "Requirement already satisfied: tqdm>=4.27 in /usr/local/lib/python3.9/dist-packages (from transformers) (4.65.0)\n",
            "Requirement already satisfied: numpy>=1.17 in /usr/local/lib/python3.9/dist-packages (from transformers) (1.22.4)\n",
            "Requirement already satisfied: regex!=2019.12.17 in /usr/local/lib/python3.9/dist-packages (from transformers) (2022.10.31)\n",
            "Requirement already satisfied: pyyaml>=5.1 in /usr/local/lib/python3.9/dist-packages (from transformers) (6.0)\n",
            "Requirement already satisfied: typing-extensions>=3.7.4.3 in /usr/local/lib/python3.9/dist-packages (from huggingface-hub<1.0,>=0.11.0->transformers) (4.5.0)\n",
            "Requirement already satisfied: urllib3<1.27,>=1.21.1 in /usr/local/lib/python3.9/dist-packages (from requests->transformers) (1.26.15)\n",
            "Requirement already satisfied: certifi>=2017.4.17 in /usr/local/lib/python3.9/dist-packages (from requests->transformers) (2022.12.7)\n",
            "Requirement already satisfied: idna<4,>=2.5 in /usr/local/lib/python3.9/dist-packages (from requests->transformers) (3.4)\n",
            "Requirement already satisfied: charset-normalizer~=2.0.0 in /usr/local/lib/python3.9/dist-packages (from requests->transformers) (2.0.12)\n",
            "Installing collected packages: tokenizers, huggingface-hub, transformers\n",
            "Successfully installed huggingface-hub-0.13.4 tokenizers-0.13.3 transformers-4.28.1\n"
          ]
        }
      ],
      "source": [
        "!wget https://raw.githubusercontent.com/rpryzant/causal-bert-pytorch/master/CausalBert.py\n",
        "!wget https://raw.githubusercontent.com/rpryzant/causal-bert-pytorch/master/testdata.csv\n",
        "!pip install transformers"
      ]
    },
    {
      "cell_type": "code",
      "source": [
        "import numpy as np\n",
        "import pandas as pd\n",
        "from scipy import stats\n",
        "import statsmodels.api as sm\n",
        "\n",
        "import networkx as nx\n",
        "\n",
        "from CausalBert import CausalBert\n",
        "\n",
        "import matplotlib.pyplot as plt\n",
        "plt.style.use('fivethirtyeight')"
      ],
      "metadata": {
        "id": "ROu9urMhkIUN"
      },
      "execution_count": 8,
      "outputs": []
    },
    {
      "cell_type": "code",
      "source": [
        "COLORS = [\n",
        "    '#00B0F0',\n",
        "    '#FF0000',\n",
        "    '#B0F000'\n",
        "]"
      ],
      "metadata": {
        "id": "ki9uU94GHIAW"
      },
      "execution_count": 13,
      "outputs": []
    },
    {
      "cell_type": "code",
      "source": [
        "np.random.seed(18)"
      ],
      "metadata": {
        "id": "fgzr02IaI17n"
      },
      "execution_count": 17,
      "outputs": []
    },
    {
      "cell_type": "markdown",
      "source": [
        "# Causality vs NLP (PyCon DE & PyData Berlin 2023 )"
      ],
      "metadata": {
        "id": "GuP_Vp_WGNoi"
      }
    },
    {
      "cell_type": "markdown",
      "source": [
        "## DGP 1"
      ],
      "metadata": {
        "id": "Icm2IYR3GiXy"
      }
    },
    {
      "cell_type": "code",
      "source": [
        "dag_1 = nx.DiGraph()\n",
        "\n",
        "dag_1.add_edges_from(\n",
        "    [\n",
        "        ('X', 'Y'),\n",
        "        ('W', 'X'),\n",
        "        ('W', 'Y')\n",
        "    ]\n",
        ")\n",
        "\n",
        "nx.draw(\n",
        "    dag_1, \n",
        "    with_labels=True, \n",
        "    node_size=900,\n",
        "    font_color='white', \n",
        "    node_color=COLORS[0]\n",
        ")"
      ],
      "metadata": {
        "colab": {
          "base_uri": "https://localhost:8080/",
          "height": 516
        },
        "id": "cl-kFMZRkTi6",
        "outputId": "9fc7ac8e-274a-405f-ee91-726c78bf84c6"
      },
      "execution_count": 14,
      "outputs": [
        {
          "output_type": "display_data",
          "data": {
            "text/plain": [
              "<Figure size 640x480 with 1 Axes>"
            ],
            "image/png": "[encoded data removed]"
          },
          "metadata": {}
        }
      ]
    },
    {
      "cell_type": "code",
      "source": [
        "SAMPLE_SIZE = 1000\n",
        "\n",
        "w = np.random.normal(0, 1, SAMPLE_SIZE)\n",
        "x = w + 0.5*np.random.normal(0, 1, SAMPLE_SIZE)\n",
        "y = 5*x + 2*w + 0.5*np.random.normal(0, 1, SAMPLE_SIZE)\n",
        "\n",
        "feats = np.stack([x, w]).T"
      ],
      "metadata": {
        "id": "WQLjr8pHkbRx"
      },
      "execution_count": 18,
      "outputs": []
    },
    {
      "cell_type": "code",
      "source": [
        "# Statsmodel models require us to add constant\n",
        "feats = sm.add_constant(feats)\n",
        "\n",
        "# Instantiate the model and fit it\n",
        "model = sm.OLS(y, feats)\n",
        "fitted_model = model.fit()\n",
        "\n",
        "# Print results summary\n",
        "print(fitted_model.summary(xname=['const', 'x', 'w']))"
      ],
      "metadata": {
        "colab": {
          "base_uri": "https://localhost:8080/"
        },
        "id": "rQb5G19FG6DO",
        "outputId": "89b7725f-7f13-4194-ed9f-2fc88cea98c3"
      },
      "execution_count": 23,
      "outputs": [
        {
          "output_type": "stream",
          "name": "stdout",
          "text": [
            "                            OLS Regression Results                            \n",
            "==============================================================================\n",
            "Dep. Variable:                      y   R-squared:                       0.996\n",
            "Model:                            OLS   Adj. R-squared:                  0.996\n",
            "Method:                 Least Squares   F-statistic:                 1.149e+05\n",
            "Date:                Wed, 19 Apr 2023   Prob (F-statistic):               0.00\n",
            "Time:                        06:12:57   Log-Likelihood:                -737.34\n",
            "No. Observations:                1000   AIC:                             1481.\n",
            "Df Residuals:                     997   BIC:                             1495.\n",
            "Df Model:                           2                                         \n",
            "Covariance Type:            nonrobust                                         \n",
            "==============================================================================\n",
            "                 coef    std err          t      P>|t|      [0.025      0.975]\n",
            "------------------------------------------------------------------------------\n",
            "const         -0.0065      0.016     -0.403      0.687      -0.038       0.025\n",
            "x              4.9919      0.032    155.036      0.000       4.929       5.055\n",
            "w              2.0085      0.036     56.268      0.000       1.938       2.079\n",
            "==============================================================================\n",
            "Omnibus:                        0.523   Durbin-Watson:                   1.958\n",
            "Prob(Omnibus):                  0.770   Jarque-Bera (JB):                0.433\n",
            "Skew:                          -0.044   Prob(JB):                        0.806\n",
            "Kurtosis:                       3.053   Cond. No.                         4.43\n",
            "==============================================================================\n",
            "\n",
            "Notes:\n",
            "[1] Standard Errors assume that the covariance matrix of the errors is correctly specified.\n"
          ]
        }
      ]
    },
    {
      "cell_type": "markdown",
      "source": [
        "## DGP 2"
      ],
      "metadata": {
        "id": "5ni7vusrJc5O"
      }
    },
    {
      "cell_type": "code",
      "source": [
        "dag_2 = nx.DiGraph()\n",
        "\n",
        "dag_2.add_edges_from(\n",
        "    [\n",
        "        ('X', 'Y'),\n",
        "        ('X', 'W'),\n",
        "        ('Y', 'W')\n",
        "    ]\n",
        ")\n",
        "\n",
        "nx.draw(\n",
        "    dag_2, \n",
        "    with_labels=True, \n",
        "    node_size=900,\n",
        "    font_color='white', \n",
        "    node_color=COLORS[0]\n",
        ")"
      ],
      "metadata": {
        "colab": {
          "base_uri": "https://localhost:8080/",
          "height": 516
        },
        "id": "rqVJ1U3PI8u-",
        "outputId": "4061a18a-f7ce-43fe-9515-6813268ea9ee"
      },
      "execution_count": 24,
      "outputs": [
        {
          "output_type": "display_data",
          "data": {
            "text/plain": [
              "<Figure size 640x480 with 1 Axes>"
            ],
            "image/png": "[encoded data removed]"
          },
          "metadata": {}
        }
      ]
    },
    {
      "cell_type": "code",
      "source": [
        "x = np.random.normal(0, 1, SAMPLE_SIZE)\n",
        "y = 5*x + 0.5*np.random.normal(0, 1, SAMPLE_SIZE)\n",
        "w = 5*x + 2*y + 0.2*np.random.normal(0, 1, SAMPLE_SIZE)\n",
        "\n",
        "feats = np.stack([x, w]).T"
      ],
      "metadata": {
        "id": "8pSWxeNeJp0R"
      },
      "execution_count": 36,
      "outputs": []
    },
    {
      "cell_type": "code",
      "source": [
        "# Statsmodel models require us to add constant\n",
        "feats = sm.add_constant(feats)\n",
        "\n",
        "# Instantiate the model and fit it\n",
        "model = sm.OLS(y, feats)\n",
        "fitted_model = model.fit()\n",
        "\n",
        "# Print results summary\n",
        "print(fitted_model.summary(xname=['const', 'x', 'w']))"
      ],
      "metadata": {
        "colab": {
          "base_uri": "https://localhost:8080/"
        },
        "id": "chw83APGJ46K",
        "outputId": "74b17efd-018d-4f1e-da97-e9563baacf0b"
      },
      "execution_count": 37,
      "outputs": [
        {
          "output_type": "stream",
          "name": "stdout",
          "text": [
            "                            OLS Regression Results                            \n",
            "==============================================================================\n",
            "Dep. Variable:                      y   R-squared:                       1.000\n",
            "Model:                            OLS   Adj. R-squared:                  1.000\n",
            "Method:                 Least Squares   F-statistic:                 1.233e+06\n",
            "Date:                Wed, 19 Apr 2023   Prob (F-statistic):               0.00\n",
            "Time:                        06:16:51   Log-Likelihood:                 891.11\n",
            "No. Observations:                1000   AIC:                            -1776.\n",
            "Df Residuals:                     997   BIC:                            -1761.\n",
            "Df Model:                           2                                         \n",
            "Covariance Type:            nonrobust                                         \n",
            "==============================================================================\n",
            "                 coef    std err          t      P>|t|      [0.025      0.975]\n",
            "------------------------------------------------------------------------------\n",
            "const         -0.0003      0.003     -0.110      0.913      -0.007       0.006\n",
            "x             -2.2874      0.047    -48.170      0.000      -2.381      -2.194\n",
            "w              0.4859      0.003    154.126      0.000       0.480       0.492\n",
            "==============================================================================\n",
            "Omnibus:                        0.955   Durbin-Watson:                   2.014\n",
            "Prob(Omnibus):                  0.620   Jarque-Bera (JB):                0.826\n",
            "Skew:                           0.052   Prob(JB):                        0.662\n",
            "Kurtosis:                       3.095   Cond. No.                         224.\n",
            "==============================================================================\n",
            "\n",
            "Notes:\n",
            "[1] Standard Errors assume that the covariance matrix of the errors is correctly specified.\n"
          ]
        }
      ]
    },
    {
      "cell_type": "code",
      "source": [],
      "metadata": {
        "id": "7Eqgr2bSJ7e0"
      },
      "execution_count": 32,
      "outputs": []
    }
  ]
}